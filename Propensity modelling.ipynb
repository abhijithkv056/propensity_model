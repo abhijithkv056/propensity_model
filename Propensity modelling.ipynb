{
 "cells": [
  {
   "cell_type": "code",
   "execution_count": 1,
   "metadata": {},
   "outputs": [],
   "source": [
    "import pandas as pd\n",
    "import numpy as np\n",
    "import os\n",
    "import matplotlib.pylab as plt\n",
    "from sklearn.model_selection  import train_test_split\n",
    "from sklearn.tree import DecisionTreeClassifier\n",
    "from sklearn.metrics import classification_report\n",
    "import sklearn.metrics"
   ]
  },
  {
   "cell_type": "code",
   "execution_count": 3,
   "metadata": {},
   "outputs": [
    {
     "data": {
      "text/plain": [
       "UserID                     object\n",
       "basket_icon_click           int64\n",
       "basket_add_list             int64\n",
       "basket_add_detail           int64\n",
       "sort_by                     int64\n",
       "image_picker                int64\n",
       "account_page_click          int64\n",
       "promo_banner_click          int64\n",
       "detail_wishlist_add         int64\n",
       "list_size_dropdown          int64\n",
       "closed_minibasket_click     int64\n",
       "checked_delivery_detail     int64\n",
       "checked_returns_detail      int64\n",
       "sign_in                     int64\n",
       "saw_checkout                int64\n",
       "saw_sizecharts              int64\n",
       "saw_delivery                int64\n",
       "saw_account_upgrade         int64\n",
       "saw_homepage                int64\n",
       "device_mobile               int64\n",
       "device_computer             int64\n",
       "device_tablet               int64\n",
       "returning_user              int64\n",
       "loc_uk                      int64\n",
       "ordered                     int64\n",
       "dtype: object"
      ]
     },
     "execution_count": 3,
     "metadata": {},
     "output_type": "execute_result"
    }
   ],
   "source": [
    "train = pd.read_csv('training_sample.csv/training_sample.csv')\n",
    "\n",
    "train.dtypes"
   ]
  },
  {
   "cell_type": "code",
   "execution_count": 5,
   "metadata": {},
   "outputs": [
    {
     "name": "stdout",
     "output_type": "stream",
     "text": [
      "<class 'pandas.core.frame.DataFrame'>\n",
      "RangeIndex: 455401 entries, 0 to 455400\n",
      "Data columns (total 25 columns):\n",
      " #   Column                   Non-Null Count   Dtype \n",
      "---  ------                   --------------   ----- \n",
      " 0   UserID                   455401 non-null  object\n",
      " 1   basket_icon_click        455401 non-null  int64 \n",
      " 2   basket_add_list          455401 non-null  int64 \n",
      " 3   basket_add_detail        455401 non-null  int64 \n",
      " 4   sort_by                  455401 non-null  int64 \n",
      " 5   image_picker             455401 non-null  int64 \n",
      " 6   account_page_click       455401 non-null  int64 \n",
      " 7   promo_banner_click       455401 non-null  int64 \n",
      " 8   detail_wishlist_add      455401 non-null  int64 \n",
      " 9   list_size_dropdown       455401 non-null  int64 \n",
      " 10  closed_minibasket_click  455401 non-null  int64 \n",
      " 11  checked_delivery_detail  455401 non-null  int64 \n",
      " 12  checked_returns_detail   455401 non-null  int64 \n",
      " 13  sign_in                  455401 non-null  int64 \n",
      " 14  saw_checkout             455401 non-null  int64 \n",
      " 15  saw_sizecharts           455401 non-null  int64 \n",
      " 16  saw_delivery             455401 non-null  int64 \n",
      " 17  saw_account_upgrade      455401 non-null  int64 \n",
      " 18  saw_homepage             455401 non-null  int64 \n",
      " 19  device_mobile            455401 non-null  int64 \n",
      " 20  device_computer          455401 non-null  int64 \n",
      " 21  device_tablet            455401 non-null  int64 \n",
      " 22  returning_user           455401 non-null  int64 \n",
      " 23  loc_uk                   455401 non-null  int64 \n",
      " 24  ordered                  455401 non-null  int64 \n",
      "dtypes: int64(24), object(1)\n",
      "memory usage: 86.9+ MB\n",
      "None\n"
     ]
    }
   ],
   "source": [
    "print(train.info())"
   ]
  },
  {
   "cell_type": "code",
   "execution_count": 6,
   "metadata": {},
   "outputs": [
    {
     "data": {
      "text/html": [
       "<div>\n",
       "<style scoped>\n",
       "    .dataframe tbody tr th:only-of-type {\n",
       "        vertical-align: middle;\n",
       "    }\n",
       "\n",
       "    .dataframe tbody tr th {\n",
       "        vertical-align: top;\n",
       "    }\n",
       "\n",
       "    .dataframe thead th {\n",
       "        text-align: right;\n",
       "    }\n",
       "</style>\n",
       "<table border=\"1\" class=\"dataframe\">\n",
       "  <thead>\n",
       "    <tr style=\"text-align: right;\">\n",
       "      <th></th>\n",
       "      <th>UserID</th>\n",
       "      <th>basket_icon_click</th>\n",
       "      <th>basket_add_list</th>\n",
       "      <th>basket_add_detail</th>\n",
       "      <th>sort_by</th>\n",
       "      <th>image_picker</th>\n",
       "      <th>account_page_click</th>\n",
       "      <th>promo_banner_click</th>\n",
       "      <th>detail_wishlist_add</th>\n",
       "      <th>list_size_dropdown</th>\n",
       "      <th>...</th>\n",
       "      <th>saw_sizecharts</th>\n",
       "      <th>saw_delivery</th>\n",
       "      <th>saw_account_upgrade</th>\n",
       "      <th>saw_homepage</th>\n",
       "      <th>device_mobile</th>\n",
       "      <th>device_computer</th>\n",
       "      <th>device_tablet</th>\n",
       "      <th>returning_user</th>\n",
       "      <th>loc_uk</th>\n",
       "      <th>ordered</th>\n",
       "    </tr>\n",
       "  </thead>\n",
       "  <tbody>\n",
       "    <tr>\n",
       "      <th>0</th>\n",
       "      <td>a720-6b732349-a720-4862-bd21-644732</td>\n",
       "      <td>0</td>\n",
       "      <td>0</td>\n",
       "      <td>0</td>\n",
       "      <td>0</td>\n",
       "      <td>0</td>\n",
       "      <td>0</td>\n",
       "      <td>0</td>\n",
       "      <td>0</td>\n",
       "      <td>0</td>\n",
       "      <td>...</td>\n",
       "      <td>0</td>\n",
       "      <td>0</td>\n",
       "      <td>0</td>\n",
       "      <td>0</td>\n",
       "      <td>1</td>\n",
       "      <td>0</td>\n",
       "      <td>0</td>\n",
       "      <td>0</td>\n",
       "      <td>1</td>\n",
       "      <td>0</td>\n",
       "    </tr>\n",
       "    <tr>\n",
       "      <th>1</th>\n",
       "      <td>a0c0-6b73247c-a0c0-4bd9-8baa-797356</td>\n",
       "      <td>0</td>\n",
       "      <td>0</td>\n",
       "      <td>0</td>\n",
       "      <td>0</td>\n",
       "      <td>0</td>\n",
       "      <td>0</td>\n",
       "      <td>0</td>\n",
       "      <td>0</td>\n",
       "      <td>0</td>\n",
       "      <td>...</td>\n",
       "      <td>0</td>\n",
       "      <td>0</td>\n",
       "      <td>0</td>\n",
       "      <td>0</td>\n",
       "      <td>1</td>\n",
       "      <td>0</td>\n",
       "      <td>0</td>\n",
       "      <td>0</td>\n",
       "      <td>1</td>\n",
       "      <td>0</td>\n",
       "    </tr>\n",
       "    <tr>\n",
       "      <th>2</th>\n",
       "      <td>86a8-6b735c67-86a8-407b-ba24-333055</td>\n",
       "      <td>0</td>\n",
       "      <td>0</td>\n",
       "      <td>0</td>\n",
       "      <td>0</td>\n",
       "      <td>0</td>\n",
       "      <td>0</td>\n",
       "      <td>0</td>\n",
       "      <td>0</td>\n",
       "      <td>0</td>\n",
       "      <td>...</td>\n",
       "      <td>0</td>\n",
       "      <td>0</td>\n",
       "      <td>0</td>\n",
       "      <td>0</td>\n",
       "      <td>1</td>\n",
       "      <td>0</td>\n",
       "      <td>0</td>\n",
       "      <td>1</td>\n",
       "      <td>1</td>\n",
       "      <td>0</td>\n",
       "    </tr>\n",
       "    <tr>\n",
       "      <th>3</th>\n",
       "      <td>6a3d-6b736346-6a3d-4085-934b-396834</td>\n",
       "      <td>0</td>\n",
       "      <td>0</td>\n",
       "      <td>0</td>\n",
       "      <td>0</td>\n",
       "      <td>0</td>\n",
       "      <td>0</td>\n",
       "      <td>0</td>\n",
       "      <td>0</td>\n",
       "      <td>0</td>\n",
       "      <td>...</td>\n",
       "      <td>0</td>\n",
       "      <td>0</td>\n",
       "      <td>0</td>\n",
       "      <td>0</td>\n",
       "      <td>1</td>\n",
       "      <td>0</td>\n",
       "      <td>0</td>\n",
       "      <td>1</td>\n",
       "      <td>1</td>\n",
       "      <td>0</td>\n",
       "    </tr>\n",
       "    <tr>\n",
       "      <th>4</th>\n",
       "      <td>b74a-6b737717-b74a-45c3-8c6a-421140</td>\n",
       "      <td>0</td>\n",
       "      <td>1</td>\n",
       "      <td>0</td>\n",
       "      <td>1</td>\n",
       "      <td>0</td>\n",
       "      <td>0</td>\n",
       "      <td>0</td>\n",
       "      <td>0</td>\n",
       "      <td>1</td>\n",
       "      <td>...</td>\n",
       "      <td>0</td>\n",
       "      <td>0</td>\n",
       "      <td>0</td>\n",
       "      <td>1</td>\n",
       "      <td>0</td>\n",
       "      <td>0</td>\n",
       "      <td>1</td>\n",
       "      <td>0</td>\n",
       "      <td>1</td>\n",
       "      <td>1</td>\n",
       "    </tr>\n",
       "  </tbody>\n",
       "</table>\n",
       "<p>5 rows × 25 columns</p>\n",
       "</div>"
      ],
      "text/plain": [
       "                                UserID  basket_icon_click  basket_add_list  \\\n",
       "0  a720-6b732349-a720-4862-bd21-644732                  0                0   \n",
       "1  a0c0-6b73247c-a0c0-4bd9-8baa-797356                  0                0   \n",
       "2  86a8-6b735c67-86a8-407b-ba24-333055                  0                0   \n",
       "3  6a3d-6b736346-6a3d-4085-934b-396834                  0                0   \n",
       "4  b74a-6b737717-b74a-45c3-8c6a-421140                  0                1   \n",
       "\n",
       "   basket_add_detail  sort_by  image_picker  account_page_click  \\\n",
       "0                  0        0             0                   0   \n",
       "1                  0        0             0                   0   \n",
       "2                  0        0             0                   0   \n",
       "3                  0        0             0                   0   \n",
       "4                  0        1             0                   0   \n",
       "\n",
       "   promo_banner_click  detail_wishlist_add  list_size_dropdown  ...  \\\n",
       "0                   0                    0                   0  ...   \n",
       "1                   0                    0                   0  ...   \n",
       "2                   0                    0                   0  ...   \n",
       "3                   0                    0                   0  ...   \n",
       "4                   0                    0                   1  ...   \n",
       "\n",
       "   saw_sizecharts  saw_delivery  saw_account_upgrade  saw_homepage  \\\n",
       "0               0             0                    0             0   \n",
       "1               0             0                    0             0   \n",
       "2               0             0                    0             0   \n",
       "3               0             0                    0             0   \n",
       "4               0             0                    0             1   \n",
       "\n",
       "   device_mobile  device_computer  device_tablet  returning_user  loc_uk  \\\n",
       "0              1                0              0               0       1   \n",
       "1              1                0              0               0       1   \n",
       "2              1                0              0               1       1   \n",
       "3              1                0              0               1       1   \n",
       "4              0                0              1               0       1   \n",
       "\n",
       "   ordered  \n",
       "0        0  \n",
       "1        0  \n",
       "2        0  \n",
       "3        0  \n",
       "4        1  \n",
       "\n",
       "[5 rows x 25 columns]"
      ]
     },
     "execution_count": 6,
     "metadata": {},
     "output_type": "execute_result"
    }
   ],
   "source": [
    "train.head()"
   ]
  },
  {
   "cell_type": "code",
   "execution_count": 7,
   "metadata": {},
   "outputs": [
    {
     "data": {
      "text/plain": [
       "(455401, 25)"
      ]
     },
     "execution_count": 7,
     "metadata": {},
     "output_type": "execute_result"
    }
   ],
   "source": [
    "train.shape"
   ]
  },
  {
   "cell_type": "code",
   "execution_count": 9,
   "metadata": {},
   "outputs": [
    {
     "name": "stderr",
     "output_type": "stream",
     "text": [
      "C:\\Users\\abhij\\AppData\\Local\\Temp\\ipykernel_10356\\594363691.py:2: FutureWarning: The default value of numeric_only in DataFrame.corr is deprecated. In a future version, it will default to False. Select only valid columns or specify the value of numeric_only to silence this warning.\n",
      "  corr = train.corr()\n"
     ]
    },
    {
     "data": {
      "image/png": "[encoded data removed]",
      "text/plain": [
       "<Figure size 800x600 with 2 Axes>"
      ]
     },
     "metadata": {},
     "output_type": "display_data"
    }
   ],
   "source": [
    "import seaborn as sns\n",
    "corr = train.corr()\n",
    "plt.figure(figsize=(8, 6))\n",
    "sns.heatmap(corr, vmax=0.5, center=0,\n",
    "            square=True, linewidths=2, cmap='Blues')\n",
    "plt.savefig(\"heatmap.png\")\n",
    "plt.show()"
   ]
  },
  {
   "cell_type": "code",
   "execution_count": 10,
   "metadata": {},
   "outputs": [
    {
     "name": "stderr",
     "output_type": "stream",
     "text": [
      "C:\\Users\\abhij\\AppData\\Local\\Temp\\ipykernel_10356\\1995792893.py:1: FutureWarning: The default value of numeric_only in DataFrame.corr is deprecated. In a future version, it will default to False. Select only valid columns or specify the value of numeric_only to silence this warning.\n",
      "  train.corr()['ordered']\n"
     ]
    },
    {
     "data": {
      "text/plain": [
       "basket_icon_click          0.428334\n",
       "basket_add_list            0.287666\n",
       "basket_add_detail          0.414420\n",
       "sort_by                    0.054636\n",
       "image_picker               0.071492\n",
       "account_page_click         0.057279\n",
       "promo_banner_click         0.056533\n",
       "detail_wishlist_add        0.023516\n",
       "list_size_dropdown         0.154867\n",
       "closed_minibasket_click    0.140011\n",
       "checked_delivery_detail    0.798720\n",
       "checked_returns_detail     0.059484\n",
       "sign_in                    0.665556\n",
       "saw_checkout               0.708986\n",
       "saw_sizecharts             0.007548\n",
       "saw_delivery               0.031461\n",
       "saw_account_upgrade        0.025857\n",
       "saw_homepage               0.157778\n",
       "device_mobile             -0.042907\n",
       "device_computer            0.049208\n",
       "device_tablet              0.016939\n",
       "returning_user             0.060295\n",
       "loc_uk                     0.031643\n",
       "ordered                    1.000000\n",
       "Name: ordered, dtype: float64"
      ]
     },
     "execution_count": 10,
     "metadata": {},
     "output_type": "execute_result"
    }
   ],
   "source": [
    "train.corr()['ordered']"
   ]
  },
  {
   "cell_type": "code",
   "execution_count": 11,
   "metadata": {},
   "outputs": [],
   "source": [
    "# Drop columns with low correlation\n",
    "predictors = train.drop(['ordered','UserID','device_mobile'], axis=1)\n",
    "# predictors = train[['checked_delivery_pdp', 'basket_icon_click', 'sign_in', 'saw_checkout']]\n",
    "targets = train.ordered"
   ]
  },
  {
   "cell_type": "code",
   "execution_count": 12,
   "metadata": {},
   "outputs": [
    {
     "name": "stdout",
     "output_type": "stream",
     "text": [
      "Predictor - Training :  (318780, 22) Predictor - Testing :  (136621, 22)\n"
     ]
    }
   ],
   "source": [
    "X_train, X_test, y_train, y_test  =   train_test_split(predictors, targets, test_size=.3)\n",
    "\n",
    "print( \"Predictor - Training : \", X_train.shape, \"Predictor - Testing : \", X_test.shape )"
   ]
  },
  {
   "cell_type": "code",
   "execution_count": 13,
   "metadata": {},
   "outputs": [
    {
     "data": {
      "text/plain": [
       "array([[129396,   1463],\n",
       "       [    76,   5686]], dtype=int64)"
      ]
     },
     "execution_count": 13,
     "metadata": {},
     "output_type": "execute_result"
    }
   ],
   "source": [
    "from sklearn.naive_bayes import GaussianNB\n",
    "\n",
    "classifier=GaussianNB()\n",
    "classifier=classifier.fit(X_train,y_train)\n",
    "\n",
    "predictions=classifier.predict(X_test)\n",
    "\n",
    "#Analyze accuracy of predictions\n",
    "sklearn.metrics.confusion_matrix(y_test,predictions)"
   ]
  },
  {
   "cell_type": "code",
   "execution_count": 23,
   "metadata": {},
   "outputs": [
    {
     "data": {
      "text/plain": [
       "array([[130047,    812],\n",
       "       [   113,   5649]], dtype=int64)"
      ]
     },
     "execution_count": 23,
     "metadata": {},
     "output_type": "execute_result"
    }
   ],
   "source": [
    "import xgboost as xgb\n",
    "from sklearn.metrics import confusion_matrix\n",
    "\n",
    "# Create the XGBoost classifier with relevant hyperparameters\n",
    "classifier1 = xgb.XGBClassifier(\n",
    "    n_estimators=100,    # Number of boosting rounds\n",
    "    max_depth=6,         # Maximum depth of the trees\n",
    "    learning_rate=0.1,   # Learning rate (eta)\n",
    "    subsample=0.8,       # Fraction of samples used for training\n",
    "    colsample_bytree=0.8 # Fraction of features used for training\n",
    ")\n",
    "\n",
    "classifier1=classifier1.fit(X_train,y_train)\n",
    "\n",
    "predictions=classifier1.predict(X_test)\n",
    "\n",
    "#Analyze accuracy of predictions\n",
    "sklearn.metrics.confusion_matrix(y_test,predictions)"
   ]
  },
  {
   "cell_type": "code",
   "execution_count": 25,
   "metadata": {},
   "outputs": [
    {
     "name": "stdout",
     "output_type": "stream",
     "text": [
      "[[130014    845]\n",
      " [    76   5686]]\n"
     ]
    }
   ],
   "source": [
    "from sklearn.ensemble import RandomForestClassifier\n",
    "from sklearn.metrics import confusion_matrix\n",
    "\n",
    "# Initialize the Random Forest classifier with relevant hyperparameters\n",
    "classifier = RandomForestClassifier(n_estimators=100, max_depth=10, random_state=42)\n",
    "\n",
    "# Fit the model\n",
    "classifier.fit(X_train, y_train)\n",
    "\n",
    "# Make predictions\n",
    "predictions = classifier.predict(X_test)\n",
    "\n",
    "# Analyze accuracy of predictions using confusion matrix\n",
    "conf_matrix = confusion_matrix(y_test, predictions)\n",
    "print(conf_matrix)"
   ]
  },
  {
   "cell_type": "code",
   "execution_count": 24,
   "metadata": {},
   "outputs": [
    {
     "data": {
      "text/plain": [
       "0.9932294449608772"
      ]
     },
     "execution_count": 24,
     "metadata": {},
     "output_type": "execute_result"
    }
   ],
   "source": [
    "sklearn.metrics.accuracy_score(y_test, predictions)"
   ]
  },
  {
   "cell_type": "code",
   "execution_count": 15,
   "metadata": {},
   "outputs": [],
   "source": [
    "yesterday_prospects = pd.read_csv('testing_sample.csv/testing_sample.csv')"
   ]
  },
  {
   "cell_type": "code",
   "execution_count": 16,
   "metadata": {},
   "outputs": [
    {
     "name": "stdout",
     "output_type": "stream",
     "text": [
      "<class 'pandas.core.frame.DataFrame'>\n",
      "RangeIndex: 151655 entries, 0 to 151654\n",
      "Data columns (total 25 columns):\n",
      " #   Column                   Non-Null Count   Dtype \n",
      "---  ------                   --------------   ----- \n",
      " 0   UserID                   151655 non-null  object\n",
      " 1   basket_icon_click        151655 non-null  int64 \n",
      " 2   basket_add_list          151655 non-null  int64 \n",
      " 3   basket_add_detail        151655 non-null  int64 \n",
      " 4   sort_by                  151655 non-null  int64 \n",
      " 5   image_picker             151655 non-null  int64 \n",
      " 6   account_page_click       151655 non-null  int64 \n",
      " 7   promo_banner_click       151655 non-null  int64 \n",
      " 8   detail_wishlist_add      151655 non-null  int64 \n",
      " 9   list_size_dropdown       151655 non-null  int64 \n",
      " 10  closed_minibasket_click  151655 non-null  int64 \n",
      " 11  checked_delivery_detail  151655 non-null  int64 \n",
      " 12  checked_returns_detail   151655 non-null  int64 \n",
      " 13  sign_in                  151655 non-null  int64 \n",
      " 14  saw_checkout             151655 non-null  int64 \n",
      " 15  saw_sizecharts           151655 non-null  int64 \n",
      " 16  saw_delivery             151655 non-null  int64 \n",
      " 17  saw_account_upgrade      151655 non-null  int64 \n",
      " 18  saw_homepage             151655 non-null  int64 \n",
      " 19  device_mobile            151655 non-null  int64 \n",
      " 20  device_computer          151655 non-null  int64 \n",
      " 21  device_tablet            151655 non-null  int64 \n",
      " 22  returning_user           151655 non-null  int64 \n",
      " 23  loc_uk                   151655 non-null  int64 \n",
      " 24  ordered                  151655 non-null  int64 \n",
      "dtypes: int64(24), object(1)\n",
      "memory usage: 28.9+ MB\n",
      "None\n"
     ]
    }
   ],
   "source": [
    "print(yesterday_prospects.info())"
   ]
  },
  {
   "cell_type": "code",
   "execution_count": 17,
   "metadata": {},
   "outputs": [
    {
     "name": "stdout",
     "output_type": "stream",
     "text": [
      "   basket_icon_click  basket_add_list  basket_add_detail  sort_by  \\\n",
      "0                  0                0                  0        0   \n",
      "1                  0                0                  0        0   \n",
      "2                  0                0                  0        0   \n",
      "3                  0                0                  1        0   \n",
      "4                  0                0                  0        0   \n",
      "5                  1                0                  1        0   \n",
      "6                  0                0                  0        0   \n",
      "7                  0                0                  0        0   \n",
      "8                  1                1                  1        0   \n",
      "9                  0                0                  0        0   \n",
      "\n",
      "   image_picker  account_page_click  promo_banner_click  detail_wishlist_add  \\\n",
      "0             0                   0                   0                    0   \n",
      "1             0                   0                   0                    0   \n",
      "2             0                   0                   0                    0   \n",
      "3             0                   0                   0                    0   \n",
      "4             0                   0                   0                    0   \n",
      "5             0                   0                   0                    1   \n",
      "6             0                   0                   0                    0   \n",
      "7             0                   0                   0                    0   \n",
      "8             0                   0                   0                    0   \n",
      "9             0                   0                   0                    0   \n",
      "\n",
      "   list_size_dropdown  closed_minibasket_click  ...  sign_in  saw_checkout  \\\n",
      "0                   0                        0  ...        0             0   \n",
      "1                   0                        0  ...        0             0   \n",
      "2                   0                        0  ...        0             0   \n",
      "3                   0                        0  ...        0             0   \n",
      "4                   0                        0  ...        0             0   \n",
      "5                   1                        0  ...        1             1   \n",
      "6                   0                        0  ...        0             0   \n",
      "7                   0                        0  ...        0             0   \n",
      "8                   1                        1  ...        0             0   \n",
      "9                   0                        0  ...        0             0   \n",
      "\n",
      "   saw_sizecharts  saw_delivery  saw_account_upgrade  saw_homepage  \\\n",
      "0               0             0                    0             0   \n",
      "1               0             0                    0             0   \n",
      "2               0             0                    0             0   \n",
      "3               0             0                    0             0   \n",
      "4               0             0                    0             0   \n",
      "5               0             0                    0             0   \n",
      "6               0             0                    0             0   \n",
      "7               0             0                    0             0   \n",
      "8               0             0                    0             1   \n",
      "9               0             0                    0             0   \n",
      "\n",
      "   device_computer  device_tablet  returning_user  loc_uk  \n",
      "0                0              0               0       1  \n",
      "1                0              0               0       1  \n",
      "2                0              0               0       1  \n",
      "3                0              0               0       1  \n",
      "4                0              0               0       1  \n",
      "5                0              1               1       0  \n",
      "6                0              1               1       1  \n",
      "7                0              0               1       1  \n",
      "8                0              0               1       1  \n",
      "9                0              0               0       0  \n",
      "\n",
      "[10 rows x 22 columns]\n"
     ]
    }
   ],
   "source": [
    "userids = yesterday_prospects.UserID\n",
    "\n",
    "yesterday_prospects = yesterday_prospects.drop(['ordered','UserID','device_mobile'], axis=1)\n",
    "\n",
    "print(yesterday_prospects.head(10))"
   ]
  },
  {
   "cell_type": "code",
   "execution_count": 18,
   "metadata": {},
   "outputs": [
    {
     "data": {
      "text/plain": [
       "(151655, 22)"
      ]
     },
     "execution_count": 18,
     "metadata": {},
     "output_type": "execute_result"
    }
   ],
   "source": [
    "yesterday_prospects.shape"
   ]
  },
  {
   "cell_type": "code",
   "execution_count": 19,
   "metadata": {},
   "outputs": [],
   "source": [
    "pd.DataFrame(userids)\n",
    "results = pd.concat([userids, yesterday_prospects], axis=1)"
   ]
  },
  {
   "cell_type": "code",
   "execution_count": 20,
   "metadata": {},
   "outputs": [
    {
     "name": "stdout",
     "output_type": "stream",
     "text": [
      "                                 UserID  basket_icon_click  basket_add_list  \\\n",
      "0   9d24-25k4-47889d24-25k4-494b-398124                  0                0   \n",
      "1   7732-1k58-47887732-1k58-4475-679678                  0                0   \n",
      "2   94k2-632j-471394k2-632j-4b4j-228160                  0                0   \n",
      "3   jdd8-419d-4714jdd8-419d-4198-674376                  0                0   \n",
      "4   7473-7595-47147473-7595-4757-227547                  0                0   \n",
      "5   7j3d-j382-47157j3d-j382-4d3b-955343                  1                0   \n",
      "6   bb4d-8019-4715bb4d-8019-4d42-763898                  0                0   \n",
      "7   d09k-j446-4716d09k-j446-4469-572703                  0                0   \n",
      "8    1397-7143-47171397-7143-4969-95351                  1                1   \n",
      "9   3j36-dj4d-47183j36-dj4d-4478-404497                  0                0   \n",
      "10   82b1-659j-471882b1-659j-45j1-32901                  0                0   \n",
      "11  dj8d-141k-4718dj8d-141k-42db-743965                  0                0   \n",
      "12  dk79-707j-4718dk79-707j-4d6k-487319                  0                0   \n",
      "13  42d6-051d-471j42d6-051d-4634-595933                  0                0   \n",
      "14  dk73-4794-471jdk73-4794-4450-695194                  0                0   \n",
      "15  0457-970d-471b0457-970d-42jb-259828                  0                0   \n",
      "16  d942-7bb0-471bd942-7bb0-48b7-176992                  0                0   \n",
      "17  1864-k405-471k1864-k405-4186-172547                  0                0   \n",
      "18  3j6b-4j14-471k3j6b-4j14-4k44-208836                  0                0   \n",
      "19  5470-1b83-471k5470-1b83-4476-737173                  0                0   \n",
      "20  7548-k5db-471k7548-k5db-445j-856744                  0                0   \n",
      "21    74j8-k175-471d74j8-k175-4410-6346                  0                0   \n",
      "22  457j-28b0-471d457j-28b0-47dk-811618                  0                0   \n",
      "23  743b-08d2-4717743b-08d2-4634-230774                  1                1   \n",
      "24  2k14-4j8k-47142k14-4j8k-4540-748537                  0                0   \n",
      "25  388k-6047-4714388k-6047-446b-345915                  0                0   \n",
      "26  3496-7b76-47203496-7b76-4821-657220                  0                0   \n",
      "27  3j61-9d88-47203j61-9d88-461j-770982                  0                0   \n",
      "28  5902-kddk-47205902-kddk-4kj7-662995                  1                0   \n",
      "29  b109-2477-4720b109-2477-473j-251250                  0                0   \n",
      "\n",
      "    basket_add_detail  sort_by  image_picker  account_page_click  \\\n",
      "0                   0        0             0                   0   \n",
      "1                   0        0             0                   0   \n",
      "2                   0        0             0                   0   \n",
      "3                   1        0             0                   0   \n",
      "4                   0        0             0                   0   \n",
      "5                   1        0             0                   0   \n",
      "6                   0        0             0                   0   \n",
      "7                   0        0             0                   0   \n",
      "8                   1        0             0                   0   \n",
      "9                   0        0             0                   0   \n",
      "10                  0        0             0                   0   \n",
      "11                  0        0             0                   0   \n",
      "12                  0        0             0                   0   \n",
      "13                  0        0             0                   0   \n",
      "14                  0        0             0                   0   \n",
      "15                  1        0             0                   0   \n",
      "16                  0        0             0                   0   \n",
      "17                  0        0             0                   0   \n",
      "18                  0        0             0                   0   \n",
      "19                  0        0             0                   0   \n",
      "20                  0        0             0                   0   \n",
      "21                  0        0             0                   0   \n",
      "22                  0        0             0                   0   \n",
      "23                  1        0             0                   0   \n",
      "24                  0        0             0                   0   \n",
      "25                  0        0             0                   0   \n",
      "26                  0        0             0                   0   \n",
      "27                  0        0             0                   0   \n",
      "28                  0        0             0                   0   \n",
      "29                  0        0             0                   0   \n",
      "\n",
      "    promo_banner_click  detail_wishlist_add  list_size_dropdown  ...  sign_in  \\\n",
      "0                    0                    0                   0  ...        0   \n",
      "1                    0                    0                   0  ...        0   \n",
      "2                    0                    0                   0  ...        0   \n",
      "3                    0                    0                   0  ...        0   \n",
      "4                    0                    0                   0  ...        0   \n",
      "5                    0                    1                   1  ...        1   \n",
      "6                    0                    0                   0  ...        0   \n",
      "7                    0                    0                   0  ...        0   \n",
      "8                    0                    0                   1  ...        0   \n",
      "9                    0                    0                   0  ...        0   \n",
      "10                   0                    0                   0  ...        0   \n",
      "11                   0                    0                   0  ...        0   \n",
      "12                   0                    0                   0  ...        0   \n",
      "13                   0                    0                   0  ...        0   \n",
      "14                   0                    0                   0  ...        0   \n",
      "15                   0                    0                   0  ...        1   \n",
      "16                   0                    0                   0  ...        0   \n",
      "17                   0                    0                   0  ...        0   \n",
      "18                   0                    0                   0  ...        0   \n",
      "19                   0                    0                   0  ...        0   \n",
      "20                   0                    0                   0  ...        0   \n",
      "21                   0                    0                   0  ...        0   \n",
      "22                   0                    0                   0  ...        0   \n",
      "23                   0                    0                   1  ...        1   \n",
      "24                   0                    0                   0  ...        0   \n",
      "25                   0                    0                   1  ...        0   \n",
      "26                   1                    0                   0  ...        0   \n",
      "27                   0                    0                   0  ...        0   \n",
      "28                   0                    0                   0  ...        1   \n",
      "29                   0                    0                   0  ...        0   \n",
      "\n",
      "    saw_checkout  saw_sizecharts  saw_delivery  saw_account_upgrade  \\\n",
      "0              0               0             0                    0   \n",
      "1              0               0             0                    0   \n",
      "2              0               0             0                    0   \n",
      "3              0               0             0                    0   \n",
      "4              0               0             0                    0   \n",
      "5              1               0             0                    0   \n",
      "6              0               0             0                    0   \n",
      "7              0               0             0                    0   \n",
      "8              0               0             0                    0   \n",
      "9              0               0             0                    0   \n",
      "10             0               0             0                    0   \n",
      "11             0               0             0                    0   \n",
      "12             0               0             0                    0   \n",
      "13             0               0             0                    0   \n",
      "14             0               0             0                    0   \n",
      "15             1               0             0                    0   \n",
      "16             0               0             0                    0   \n",
      "17             0               0             0                    0   \n",
      "18             0               0             0                    0   \n",
      "19             0               0             0                    0   \n",
      "20             0               0             0                    0   \n",
      "21             0               0             0                    0   \n",
      "22             0               0             0                    0   \n",
      "23             1               0             0                    0   \n",
      "24             0               0             0                    0   \n",
      "25             0               0             0                    0   \n",
      "26             0               0             0                    0   \n",
      "27             0               0             0                    0   \n",
      "28             1               0             0                    0   \n",
      "29             0               0             0                    0   \n",
      "\n",
      "    saw_homepage  device_computer  device_tablet  returning_user  loc_uk  \n",
      "0              0                0              0               0       1  \n",
      "1              0                0              0               0       1  \n",
      "2              0                0              0               0       1  \n",
      "3              0                0              0               0       1  \n",
      "4              0                0              0               0       1  \n",
      "5              0                0              1               1       0  \n",
      "6              0                0              1               1       1  \n",
      "7              0                0              0               1       1  \n",
      "8              1                0              0               1       1  \n",
      "9              0                0              0               0       0  \n",
      "10             0                0              0               0       1  \n",
      "11             0                0              0               1       1  \n",
      "12             0                0              0               1       1  \n",
      "13             0                1              0               1       1  \n",
      "14             0                0              0               1       1  \n",
      "15             0                0              0               0       1  \n",
      "16             0                1              0               1       1  \n",
      "17             0                1              0               1       1  \n",
      "18             0                0              0               1       1  \n",
      "19             1                0              0               0       1  \n",
      "20             0                0              0               1       1  \n",
      "21             0                0              0               1       1  \n",
      "22             0                1              0               0       1  \n",
      "23             1                0              0               0       0  \n",
      "24             0                0              0               0       1  \n",
      "25             1                0              0               0       1  \n",
      "26             0                1              0               0       1  \n",
      "27             1                0              0               0       1  \n",
      "28             0                0              0               1       1  \n",
      "29             0                0              0               1       1  \n",
      "\n",
      "[30 rows x 23 columns]\n"
     ]
    }
   ],
   "source": [
    "print(results.head(30))"
   ]
  },
  {
   "cell_type": "code",
   "execution_count": 21,
   "metadata": {},
   "outputs": [],
   "source": [
    "results.to_csv('results.csv')"
   ]
  },
  {
   "cell_type": "code",
   "execution_count": null,
   "metadata": {},
   "outputs": [],
   "source": []
  }
 ],
 "metadata": {
  "kernelspec": {
   "display_name": "tensorflow",
   "language": "python",
   "name": "python3"
  },
  "language_info": {
   "codemirror_mode": {
    "name": "ipython",
    "version": 3
   },
   "file_extension": ".py",
   "mimetype": "text/x-python",
   "name": "python",
   "nbconvert_exporter": "python",
   "pygments_lexer": "ipython3",
   "version": "3.10.11"
  }
 },
 "nbformat": 4,
 "nbformat_minor": 2
}
